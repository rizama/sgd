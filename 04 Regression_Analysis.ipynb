{
 "cells": [
  {
   "cell_type": "markdown",
   "metadata": {
    "slideshow": {
     "slide_type": "slide"
    }
   },
   "source": [
    "<center><img alt=\"\" src=\"img/0_cover.jpg\"/>\n",
    "\n",
    "## <center><font color=\"blue\">IV. Analisis Regresi (Linear Models)\n",
    "<b><center>(C) Taufik Sutanto - 2019\n",
    "<center>tau-data Indonesia ~ https://tau-data.id"
   ]
  },
  {
   "cell_type": "markdown",
   "metadata": {},
   "source": [
    "# <font color=\"blue\">Outline Module IV</font>\n",
    "\n",
    "* Pendahuluan Model Linier Regresi Sederhana\n",
    "* Hubungan Linier Korelasi\n",
    "* Regresi pada data numerik dan-atau kategorik\n",
    "* Regresi Non-linier\n",
    "* Evaluasi, Validasi, dan Interpretasi"
   ]
  },
  {
   "cell_type": "markdown",
   "metadata": {},
   "source": [
    "# Pendahuluan Model Regresi\n",
    "\n",
    "* Digunakan saat variabel tak bebas (**Dependent variable** - Y) bertipe **numerik** (float/real) dan variabel bebasnya bisa numerik dan-atau kategorik\n",
    "\n",
    "<p><img alt=\"\" src=\"img/Supervised_Methods.png\" /></p>\n"
   ]
  },
  {
   "cell_type": "markdown",
   "metadata": {},
   "source": [
    "# Beberapa contoh aplikasi regresi\n",
    "\n",
    "1. **Predictive** Analytics: Memprediksi resiko, harga, penjualan, demand, dsb.\n",
    "\n",
    "2. Operation Efficiency: Optimasi proses bisnis dengan melihat **hubungan antar variabel** dan mengambil policy berdasarkan hubungan tersebut.\n",
    "\n",
    "3. Supporting Decisions: **Testing hypothesis**, misal terkait keuangan, operations dan customer purchases.\n",
    "\n",
    "4. New **Insights**: Regresi dapat membantu menganalisa hubungan antar variabel dan sekaligus mem-filternya.\n",
    "\n",
    "Sumber: https://www.newgenapps.com/blog/business-applications-uses-regression-analysis-advantages"
   ]
  },
  {
   "cell_type": "markdown",
   "metadata": {},
   "source": [
    "# Regresi dan Korelasi\n",
    "\n",
    "* Konsep dasar Persamaan/model Regressi adalah hubungan linear antara variabel bebas dan tak bebas.\n",
    "* Sehingga kita akan awali bahasannya dengan Korelasi\n",
    "\n",
    "<p><img alt=\"\" src=\"img/correlation.png\" /></p>\n"
   ]
  },
  {
   "cell_type": "markdown",
   "metadata": {},
   "source": [
    "# Koefisien Korelasi Pearson\n",
    "\n",
    "* Korelasi adalah suatu pengukuran untuk melihat **hubungan linier** antara dua variable numerik. Disimbolkan dengan **r**, untuk sampel, dan **$\\rho$** untuk populasi.\n",
    "\n",
    "* Langkah pertama dalam penentuan korelasi adalah dengan membuat **diagram pencar** (scatter plot) dari variabel terkait. Pada korelasi, kedua variable setara, dalam artian tidak ada yang menjadi variable bebas dan terikat. \n",
    "\n",
    "* Namun, untuk mempermudah pembahasan, pada diagram pencar, satu variable akan disimbolkan sebagai *x* (variable bebas) dan satu variable sebagai *y* (variable terikat/tak bebas). Jika titik – titik data terkonsentrasi di sekitar garis lurus, maka merupakan indikasi bahwa korelasi antara kedua variable tinggi. Makin terpencar data dari suatu garis lurus, menunjukkan makin rendah korelasi antara kedua variable tersebut."
   ]
  },
  {
   "cell_type": "markdown",
   "metadata": {},
   "source": [
    "# Nilai koefisien korelasi Pearson\n",
    "\n",
    "* Nilai dari koefisien korelasi Pearson adalah dari -1 hingga +1.\n",
    "\n",
    "<p><img alt=\"\" src=\"img/korelasi_pearson_01.png\" /></p>"
   ]
  },
  {
   "cell_type": "markdown",
   "metadata": {},
   "source": [
    "<p><img alt=\"\" src=\"img/linear-nonlinear-relationships.png\" style=\"width: 688px; height: 266px;\" /></p>\n"
   ]
  },
  {
   "cell_type": "markdown",
   "metadata": {},
   "source": [
    "# Hati-hati\n",
    "\n",
    "* Koefisien korelasi = 0 bukan berarti tidak ada hubungan antara kedua variable. Yang benar adalah: tidak ada hubungan LINIER, tapi bisa jadi ada hubungan dalam bentuk lain; misal: kuadratik, atau fungsi lain selain linier, seperti pada contoh di atas. "
   ]
  },
  {
   "cell_type": "markdown",
   "metadata": {},
   "source": [
    "# Memahami Korelasi dari perumusannya (Statistical Thinking)\n",
    "\n",
    "* Korelasi sebenarnya adalah Covariance dibagi dengan masing-masing standar deviasinya.\n",
    "* Apa maksud/maknanya?\n",
    "\n",
    "<p><img alt=\"\" src=\"img/korelasi_pearson_formulae.png\" /></p>"
   ]
  },
  {
   "cell_type": "markdown",
   "metadata": {},
   "source": [
    "# Contoh sederhana\n",
    "\n",
    "<p><img alt=\"\" src=\"img/data_korelasi_01.png\" /></p>"
   ]
  },
  {
   "cell_type": "code",
   "execution_count": 3,
   "metadata": {},
   "outputs": [
    {
     "data": {
      "text/plain": [
       "array([[1.        , 0.94676931],\n",
       "       [0.94676931, 1.        ]])"
      ]
     },
     "execution_count": 3,
     "metadata": {},
     "output_type": "execute_result"
    }
   ],
   "source": [
    "import numpy as np\n",
    "\n",
    "x = np.array([40, 45, 53, 60, 65, 71]) # Usia\n",
    "y = np.array([126, 124, 135, 142, 139, 151]) # Tekanan Darah\n",
    "np.corrcoef(x, y)\n",
    "\n",
    "# Hasilnya adalah matriks korelasi"
   ]
  },
  {
   "cell_type": "code",
   "execution_count": 4,
   "metadata": {},
   "outputs": [
    {
     "data": {
      "image/png": "[encoded data removed]",
      "text/plain": [
       "<Figure size 432x288 with 1 Axes>"
      ]
     },
     "metadata": {},
     "output_type": "display_data"
    }
   ],
   "source": [
    "# Plot untuk melihat datanya\n",
    "import matplotlib\n",
    "import matplotlib.pyplot as plt\n",
    "%matplotlib inline\n",
    "matplotlib.style.use('ggplot')\n",
    "\n",
    "plt.scatter(x, y)\n",
    "plt.show()"
   ]
  },
  {
   "cell_type": "markdown",
   "metadata": {},
   "source": [
    "# Interpretasi\n",
    "\n",
    "* Nilai ~0.95 menunjukkan bahwa ada korelasi linier positif yang kuat antara usia dan tekanan darah. Ada kecenderungan bahwa usia tinggi berkaitan dengan tekanan darah yang kebih tinggi dibandingkan usia rendah.\n",
    "* **WARNING**\n",
    "* **Korelasi tidak sama (meng-implikasikan) dengan sebab akibat**. Perhatikan interpretasi di atas. Tidak dinyatakan bahwa jika usia tinggi maka tekanan darah rendah, hanya suatu tren atau kecenderungan. Mungkin saja usia dengan bertambahnya usia maka tekanan darah meningkat, tapi mungkin juga tekanan darah tinggi bukan karena usia, tapi faktor lain yang tidak teramati pada data.\n",
    "\n",
    "* Contoh lain penelitian di Machine learning (kecantikan dan confidence/Panjang Jari dan IQ)"
   ]
  },
  {
   "cell_type": "markdown",
   "metadata": {},
   "source": [
    "# Batasan nilai $R^2$ seperti ini? ... Really? Why? Why not?\n",
    "\n",
    "<p><img alt=\"\" src=\"img/R_Squared_Interpretations.jpg\" /></p>\n",
    "\n",
    "* Cases (social, medicine, etc)\n",
    "* Objective, prediction vs insights."
   ]
  },
  {
   "cell_type": "markdown",
   "metadata": {},
   "source": [
    "# Regresi Linier Sederhana\n",
    "\n",
    "\n",
    "<img alt=\"\" src=\"img/Reg_sederhana_01.png\"/>"
   ]
  },
  {
   "cell_type": "markdown",
   "metadata": {},
   "source": [
    "<p><img alt=\"\" src=\"img/reg_eq.png\" style=\"width: 599px; height: 249px;\" /></p>"
   ]
  },
  {
   "cell_type": "markdown",
   "metadata": {},
   "source": [
    "<p><img alt=\"\" src=\"img/reg_types.png\" /></p>\n"
   ]
  },
  {
   "cell_type": "markdown",
   "metadata": {},
   "source": [
    "# Korelasi ke Regresi\n",
    "\n",
    "<p><img alt=\"\" src=\"img/korelasi_2_regresi.png\" /></p>"
   ]
  },
  {
   "cell_type": "markdown",
   "metadata": {},
   "source": [
    "# Diskusi\n",
    "\n",
    "## Mengapa Error diasumsikan berdistribusi normal?\n",
    "## Error VS Residual?\n",
    "## Di dunia nyata kita seringnya tidak mengetahui error. Loh kok? Maksudnya?\n",
    "## Apa beda regresi dan interpolasi di Metode Numerik?"
   ]
  },
  {
   "cell_type": "markdown",
   "metadata": {},
   "source": [
    "# Bahas sebentar pentingnya memahami \"Loss Function\"\n",
    "\n",
    "* Persamaan/Model Linier adalah dasar terpenting di Statistika, Data Science, Machine Learning, dan Deep Learning (*).\n",
    "* Banyak model di (*) sebenarnya adalah fungsi linier, bahkan di masalah klasifikasi.\n",
    "* Yang membedakan adalah \"pemodelan/optimasi masalah/Loss Functionnya\"\n",
    "\n",
    "-- Keterangan lebih lanjut ... "
   ]
  },
  {
   "cell_type": "markdown",
   "metadata": {},
   "source": [
    "# Heteroskedasticity\n",
    "\n",
    "<p><img alt=\"\" src=\"img/heterokedastisitas.png\" /></p>\n"
   ]
  },
  {
   "cell_type": "markdown",
   "metadata": {},
   "source": [
    "# Regresi memprediksi rata-rata $y_i$ untuk $x_i$, maksudnya?"
   ]
  },
  {
   "cell_type": "markdown",
   "metadata": {},
   "source": [
    "<h1 id=\"Asumsi-Klasik\">Asumsi Klasik</h1>\n",
    "\n",
    "* http://taufiksutanto.blogspot.com/2018/05/asumsi-statistik-antara-benci-butuh.html\n",
    "<p><img alt=\"\" src=\"img/asumsi_reg.png\" style=\"width: 800px; height: 298px;\" /></p>"
   ]
  },
  {
   "cell_type": "markdown",
   "metadata": {},
   "source": [
    "<p><img alt=\"\" src=\"img/asumsi_reg_2.png\" /></p>\n"
   ]
  },
  {
   "cell_type": "markdown",
   "metadata": {},
   "source": [
    "# Some warnings in Regression\n",
    "\n",
    "<p><img alt=\"\" src=\"img/Warnings_on_Regresi.png\" /></p>"
   ]
  },
  {
   "cell_type": "markdown",
   "metadata": {},
   "source": [
    "# Multikolinearitas: Mengapa dan seberapa \"robust\"?\n",
    "\n",
    "## Kapan kita tidak perlu hawatir tentang hal ini?"
   ]
  },
  {
   "cell_type": "markdown",
   "metadata": {},
   "source": [
    "# Pembahasan tentang Scaling"
   ]
  },
  {
   "cell_type": "markdown",
   "metadata": {},
   "source": [
    "# Pembahasan tentang Interpolasi dan bukan Ekstrapolasi \n",
    "\n",
    "## Kalau mau ekstrapolasi bagaimana?"
   ]
  },
  {
   "cell_type": "markdown",
   "metadata": {},
   "source": [
    "# Bagaimana jika error tidak berdistribusi \"normal\"?"
   ]
  },
  {
   "cell_type": "markdown",
   "metadata": {},
   "source": [
    "# http://taufiksutanto.blogspot.com/2018/05/asumsi-statistik-antara-benci-butuh.html"
   ]
  },
  {
   "cell_type": "markdown",
   "metadata": {},
   "source": [
    "# Evaluasi Error (Mean Squared Error)\n",
    "\n",
    "<p><img alt=\"\" src=\"img/mse_regresi.png\" /></p>\n",
    "\n",
    "* Hati-hati,... perhatikan rumusnya dengan baik .... ia tidak robust terhadap outlier\n",
    "* $\\hat{y} = \\beta_0 + \\beta_1 x_1 + ... + \\beta_n x_n$\n",
    "* MSE = total jarak/selisih antara prediksi dan nilai dari data (sesungguhnya)\n",
    "* RMSE = $\\sqrt{MSE}$   ... why? \n",
    "* Evaluasi penting ketika kita ingin melakukan prediksi"
   ]
  },
  {
   "cell_type": "markdown",
   "metadata": {},
   "source": [
    "# Evaluasi $R^2$: Model VS Tidak Pakai Model?\n",
    "\n",
    "<p><img alt=\"\" src=\"img/R_Square.png\" /></p>"
   ]
  },
  {
   "cell_type": "markdown",
   "metadata": {},
   "source": [
    "# Adjusted R-Squared? Why?\n",
    "\n",
    "<p><img alt=\"\" src=\"img/Adjusted_R_Squared.png\" /></p>"
   ]
  },
  {
   "cell_type": "markdown",
   "metadata": {},
   "source": [
    "# Pengaruh Variabel Tak Bebas ke Model\n",
    "\n",
    "\n",
    "<p><img alt=\"\" src=\"img/sig_var_di_Regresi.png\" /></p>\n",
    "\n",
    "* $SSR = SST - SSE = \\sum{(y_i-\\bar{y})^2} - \\sum{(y_i-\\hat{y_i})^2}$  "
   ]
  },
  {
   "cell_type": "markdown",
   "metadata": {},
   "source": [
    "# p-value (bergantung distribusi; contoh kasus distribusi normal)?\n",
    "\n",
    "<p><img alt=\"\" src=\"img/p-value.png\" /></p>\n",
    "\n",
    "* Probabilitas membuat kesalahan\n",
    "* Dari rumus di cell sebelumnya, ada \"masalah\" dengan formulasi p-value."
   ]
  },
  {
   "cell_type": "markdown",
   "metadata": {},
   "source": [
    "# Regresi Non-Linier?\n",
    "\n",
    "## Why?\n",
    "## Kapan tidak disarankan menambah kompleksitas model?\n",
    "## Regression for insights VS regression for prediction.\n",
    "\n",
    "## Masih linear terhadap parameter\n",
    "\n",
    "<p><img alt=\"\" src=\"img/linearisasi_regresi.png\" /></p>"
   ]
  },
  {
   "cell_type": "markdown",
   "metadata": {},
   "source": [
    "# Contoh Regresi di Python (Data Pengeluaran Biaya Iklan)"
   ]
  },
  {
   "cell_type": "code",
   "execution_count": 24,
   "metadata": {},
   "outputs": [],
   "source": [
    "# Importing Modules\n",
    "import statsmodels.formula.api as smf, seaborn as sns, pandas as pd\n",
    "from statsmodels.formula.api import ols\n",
    "import numpy as np, statsmodels.api as sm, scipy.stats as stats\n",
    "\n",
    "%matplotlib inline\n",
    "plt.style.use('bmh'); sns.set()"
   ]
  },
  {
   "cell_type": "code",
   "execution_count": 8,
   "metadata": {},
   "outputs": [
    {
     "data": {
      "text/html": [
       "<div>\n",
       "<style scoped>\n",
       "    .dataframe tbody tr th:only-of-type {\n",
       "        vertical-align: middle;\n",
       "    }\n",
       "\n",
       "    .dataframe tbody tr th {\n",
       "        vertical-align: top;\n",
       "    }\n",
       "\n",
       "    .dataframe thead th {\n",
       "        text-align: right;\n",
       "    }\n",
       "</style>\n",
       "<table border=\"1\" class=\"dataframe\">\n",
       "  <thead>\n",
       "    <tr style=\"text-align: right;\">\n",
       "      <th></th>\n",
       "      <th>No</th>\n",
       "      <th>Iklan</th>\n",
       "      <th>Laba</th>\n",
       "      <th>Tipe</th>\n",
       "    </tr>\n",
       "  </thead>\n",
       "  <tbody>\n",
       "    <tr>\n",
       "      <th>0</th>\n",
       "      <td>1</td>\n",
       "      <td>10</td>\n",
       "      <td>9.17</td>\n",
       "      <td>1</td>\n",
       "    </tr>\n",
       "    <tr>\n",
       "      <th>1</th>\n",
       "      <td>2</td>\n",
       "      <td>1</td>\n",
       "      <td>1.32</td>\n",
       "      <td>0</td>\n",
       "    </tr>\n",
       "    <tr>\n",
       "      <th>2</th>\n",
       "      <td>3</td>\n",
       "      <td>12</td>\n",
       "      <td>8.54</td>\n",
       "      <td>1</td>\n",
       "    </tr>\n",
       "    <tr>\n",
       "      <th>3</th>\n",
       "      <td>4</td>\n",
       "      <td>12</td>\n",
       "      <td>7.68</td>\n",
       "      <td>1</td>\n",
       "    </tr>\n",
       "    <tr>\n",
       "      <th>4</th>\n",
       "      <td>5</td>\n",
       "      <td>5</td>\n",
       "      <td>7.15</td>\n",
       "      <td>1</td>\n",
       "    </tr>\n",
       "  </tbody>\n",
       "</table>\n",
       "</div>"
      ],
      "text/plain": [
       "   No  Iklan  Laba  Tipe\n",
       "0   1     10  9.17     1\n",
       "1   2      1  1.32     0\n",
       "2   3     12  8.54     1\n",
       "3   4     12  7.68     1\n",
       "4   5      5  7.15     1"
      ]
     },
     "execution_count": 8,
     "metadata": {},
     "output_type": "execute_result"
    }
   ],
   "source": [
    "# Load DataFile CSV\n",
    "df = pd.read_csv('data/iklan.csv') \n",
    "df.head()"
   ]
  },
  {
   "cell_type": "code",
   "execution_count": 31,
   "metadata": {},
   "outputs": [
    {
     "data": {
      "text/html": [
       "<table class=\"simpletable\">\n",
       "<caption>OLS Regression Results</caption>\n",
       "<tr>\n",
       "  <th>Dep. Variable:</th>          <td>Laba</td>       <th>  R-squared:         </th> <td>   0.644</td>\n",
       "</tr>\n",
       "<tr>\n",
       "  <th>Model:</th>                   <td>OLS</td>       <th>  Adj. R-squared:    </th> <td>   0.637</td>\n",
       "</tr>\n",
       "<tr>\n",
       "  <th>Method:</th>             <td>Least Squares</td>  <th>  F-statistic:       </th> <td>   86.88</td>\n",
       "</tr>\n",
       "<tr>\n",
       "  <th>Date:</th>             <td>Tue, 18 Jun 2019</td> <th>  Prob (F-statistic):</th> <td>2.40e-12</td>\n",
       "</tr>\n",
       "<tr>\n",
       "  <th>Time:</th>                 <td>04:05:44</td>     <th>  Log-Likelihood:    </th> <td> -107.23</td>\n",
       "</tr>\n",
       "<tr>\n",
       "  <th>No. Observations:</th>      <td>    50</td>      <th>  AIC:               </th> <td>   218.5</td>\n",
       "</tr>\n",
       "<tr>\n",
       "  <th>Df Residuals:</th>          <td>    48</td>      <th>  BIC:               </th> <td>   222.3</td>\n",
       "</tr>\n",
       "<tr>\n",
       "  <th>Df Model:</th>              <td>     1</td>      <th>                     </th>     <td> </td>   \n",
       "</tr>\n",
       "<tr>\n",
       "  <th>Covariance Type:</th>      <td>nonrobust</td>    <th>                     </th>     <td> </td>   \n",
       "</tr>\n",
       "</table>\n",
       "<table class=\"simpletable\">\n",
       "<tr>\n",
       "      <td></td>         <th>coef</th>     <th>std err</th>      <th>t</th>      <th>P>|t|</th>  <th>[0.025</th>    <th>0.975]</th>  \n",
       "</tr>\n",
       "<tr>\n",
       "  <th>Intercept</th> <td>    1.6818</td> <td>    0.604</td> <td>    2.784</td> <td> 0.008</td> <td>    0.467</td> <td>    2.897</td>\n",
       "</tr>\n",
       "<tr>\n",
       "  <th>Iklan</th>     <td>    0.5540</td> <td>    0.059</td> <td>    9.321</td> <td> 0.000</td> <td>    0.435</td> <td>    0.674</td>\n",
       "</tr>\n",
       "</table>\n",
       "<table class=\"simpletable\">\n",
       "<tr>\n",
       "  <th>Omnibus:</th>       <td>20.767</td> <th>  Durbin-Watson:     </th> <td>   2.261</td>\n",
       "</tr>\n",
       "<tr>\n",
       "  <th>Prob(Omnibus):</th> <td> 0.000</td> <th>  Jarque-Bera (JB):  </th> <td>  45.916</td>\n",
       "</tr>\n",
       "<tr>\n",
       "  <th>Skew:</th>          <td> 1.100</td> <th>  Prob(JB):          </th> <td>1.07e-10</td>\n",
       "</tr>\n",
       "<tr>\n",
       "  <th>Kurtosis:</th>      <td> 7.147</td> <th>  Cond. No.          </th> <td>    20.7</td>\n",
       "</tr>\n",
       "</table><br/><br/>Warnings:<br/>[1] Standard Errors assume that the covariance matrix of the errors is correctly specified."
      ],
      "text/plain": [
       "<class 'statsmodels.iolib.summary.Summary'>\n",
       "\"\"\"\n",
       "                            OLS Regression Results                            \n",
       "==============================================================================\n",
       "Dep. Variable:                   Laba   R-squared:                       0.644\n",
       "Model:                            OLS   Adj. R-squared:                  0.637\n",
       "Method:                 Least Squares   F-statistic:                     86.88\n",
       "Date:                Tue, 18 Jun 2019   Prob (F-statistic):           2.40e-12\n",
       "Time:                        04:05:44   Log-Likelihood:                -107.23\n",
       "No. Observations:                  50   AIC:                             218.5\n",
       "Df Residuals:                      48   BIC:                             222.3\n",
       "Df Model:                           1                                         \n",
       "Covariance Type:            nonrobust                                         \n",
       "==============================================================================\n",
       "                 coef    std err          t      P>|t|      [0.025      0.975]\n",
       "------------------------------------------------------------------------------\n",
       "Intercept      1.6818      0.604      2.784      0.008       0.467       2.897\n",
       "Iklan          0.5540      0.059      9.321      0.000       0.435       0.674\n",
       "==============================================================================\n",
       "Omnibus:                       20.767   Durbin-Watson:                   2.261\n",
       "Prob(Omnibus):                  0.000   Jarque-Bera (JB):               45.916\n",
       "Skew:                           1.100   Prob(JB):                     1.07e-10\n",
       "Kurtosis:                       7.147   Cond. No.                         20.7\n",
       "==============================================================================\n",
       "\n",
       "Warnings:\n",
       "[1] Standard Errors assume that the covariance matrix of the errors is correctly specified.\n",
       "\"\"\""
      ]
     },
     "execution_count": 31,
     "metadata": {},
     "output_type": "execute_result"
    }
   ],
   "source": [
    "# Fitting model Regresi Sederhana\n",
    "lm = smf.ols(\"Laba ~ Iklan\", data=df[['Laba','Iklan']]).fit()\n",
    "lm.summary()"
   ]
  },
  {
   "cell_type": "code",
   "execution_count": 33,
   "metadata": {},
   "outputs": [
    {
     "data": {
      "image/png": "[encoded data removed]",
      "text/plain": [
       "<Figure size 432x288 with 1 Axes>"
      ]
     },
     "metadata": {},
     "output_type": "display_data"
    }
   ],
   "source": [
    "# Perintah-perintah ini hanya untuk memplot hasilnya\n",
    "xmin, xmax = df.Iklan.min(), df.Iklan.max()\n",
    "X = np.linspace(xmin, xmax, 100)\n",
    "# params[0] is the intercept (beta0)\n",
    "# params[1] is the slope (beta1)\n",
    "Y = lm.params[0] + lm.params[1] * X\n",
    "# Perhatikan ada 2 perintah plot\n",
    "plt.plot(df.Iklan, df.Laba, \"o\")\n",
    "plt.plot(X, Y, color=\"darkgreen\")\n",
    "#Selanjutnya hanya perintah labelling\n",
    "plt.xlabel(\"Investasi Iklan\")\n",
    "plt.ylabel(\"Laba\")\n",
    "plt.show()"
   ]
  },
  {
   "cell_type": "code",
   "execution_count": 35,
   "metadata": {},
   "outputs": [
    {
     "data": {
      "image/png": "[encoded data removed]",
      "text/plain": [
       "<Figure size 432x288 with 1 Axes>"
      ]
     },
     "metadata": {},
     "output_type": "display_data"
    }
   ],
   "source": [
    "# Menggunakan Module \"SeaBorn\" jauh lebih mudah ketimbang MatplotLib\n",
    "p = sns.regplot(df.Iklan, df.Laba)"
   ]
  },
  {
   "cell_type": "code",
   "execution_count": 15,
   "metadata": {},
   "outputs": [
    {
     "data": {
      "text/plain": [
       "0    13.316372\n",
       "1    14.424426\n",
       "2    15.532481\n",
       "dtype: float64"
      ]
     },
     "execution_count": 15,
     "metadata": {},
     "output_type": "execute_result"
    }
   ],
   "source": [
    "# Kita bisa prediksi dengan cara seperti ini:\n",
    "lm.predict({'Iklan': [21, 23, 25]})"
   ]
  },
  {
   "cell_type": "code",
   "execution_count": 26,
   "metadata": {},
   "outputs": [
    {
     "data": {
      "image/png": "[encoded data removed]",
      "text/plain": [
       "<Figure size 432x288 with 1 Axes>"
      ]
     },
     "metadata": {},
     "output_type": "display_data"
    }
   ],
   "source": [
    "# Kenormalan residuals\n",
    "res = lm.resid # residuals\n",
    "fig = sm.qqplot(res, stats.t, fit=True, line='45')\n",
    "plt.show()"
   ]
  },
  {
   "cell_type": "code",
   "execution_count": 30,
   "metadata": {},
   "outputs": [
    {
     "data": {
      "text/html": [
       "<table class=\"simpletable\">\n",
       "<caption>OLS Regression Results</caption>\n",
       "<tr>\n",
       "  <th>Dep. Variable:</th>          <td>Laba</td>       <th>  R-squared:         </th> <td>   0.759</td>\n",
       "</tr>\n",
       "<tr>\n",
       "  <th>Model:</th>                   <td>OLS</td>       <th>  Adj. R-squared:    </th> <td>   0.749</td>\n",
       "</tr>\n",
       "<tr>\n",
       "  <th>Method:</th>             <td>Least Squares</td>  <th>  F-statistic:       </th> <td>   74.01</td>\n",
       "</tr>\n",
       "<tr>\n",
       "  <th>Date:</th>             <td>Tue, 18 Jun 2019</td> <th>  Prob (F-statistic):</th> <td>3.00e-15</td>\n",
       "</tr>\n",
       "<tr>\n",
       "  <th>Time:</th>                 <td>02:59:12</td>     <th>  Log-Likelihood:    </th> <td> -97.488</td>\n",
       "</tr>\n",
       "<tr>\n",
       "  <th>No. Observations:</th>      <td>    50</td>      <th>  AIC:               </th> <td>   201.0</td>\n",
       "</tr>\n",
       "<tr>\n",
       "  <th>Df Residuals:</th>          <td>    47</td>      <th>  BIC:               </th> <td>   206.7</td>\n",
       "</tr>\n",
       "<tr>\n",
       "  <th>Df Model:</th>              <td>     2</td>      <th>                     </th>     <td> </td>   \n",
       "</tr>\n",
       "<tr>\n",
       "  <th>Covariance Type:</th>      <td>nonrobust</td>    <th>                     </th>     <td> </td>   \n",
       "</tr>\n",
       "</table>\n",
       "<table class=\"simpletable\">\n",
       "<tr>\n",
       "        <td></td>          <th>coef</th>     <th>std err</th>      <th>t</th>      <th>P>|t|</th>  <th>[0.025</th>    <th>0.975]</th>  \n",
       "</tr>\n",
       "<tr>\n",
       "  <th>Intercept</th>    <td>    1.3345</td> <td>    0.508</td> <td>    2.628</td> <td> 0.012</td> <td>    0.313</td> <td>    2.356</td>\n",
       "</tr>\n",
       "<tr>\n",
       "  <th>C(Tipe)[T.1]</th> <td>    2.6627</td> <td>    0.563</td> <td>    4.733</td> <td> 0.000</td> <td>    1.531</td> <td>    3.794</td>\n",
       "</tr>\n",
       "<tr>\n",
       "  <th>Iklan</th>        <td>    0.4307</td> <td>    0.056</td> <td>    7.707</td> <td> 0.000</td> <td>    0.318</td> <td>    0.543</td>\n",
       "</tr>\n",
       "</table>\n",
       "<table class=\"simpletable\">\n",
       "<tr>\n",
       "  <th>Omnibus:</th>       <td>12.079</td> <th>  Durbin-Watson:     </th> <td>   2.073</td>\n",
       "</tr>\n",
       "<tr>\n",
       "  <th>Prob(Omnibus):</th> <td> 0.002</td> <th>  Jarque-Bera (JB):  </th> <td>  13.276</td>\n",
       "</tr>\n",
       "<tr>\n",
       "  <th>Skew:</th>          <td> 0.939</td> <th>  Prob(JB):          </th> <td> 0.00131</td>\n",
       "</tr>\n",
       "<tr>\n",
       "  <th>Kurtosis:</th>      <td> 4.688</td> <th>  Cond. No.          </th> <td>    23.9</td>\n",
       "</tr>\n",
       "</table><br/><br/>Warnings:<br/>[1] Standard Errors assume that the covariance matrix of the errors is correctly specified."
      ],
      "text/plain": [
       "<class 'statsmodels.iolib.summary.Summary'>\n",
       "\"\"\"\n",
       "                            OLS Regression Results                            \n",
       "==============================================================================\n",
       "Dep. Variable:                   Laba   R-squared:                       0.759\n",
       "Model:                            OLS   Adj. R-squared:                  0.749\n",
       "Method:                 Least Squares   F-statistic:                     74.01\n",
       "Date:                Tue, 18 Jun 2019   Prob (F-statistic):           3.00e-15\n",
       "Time:                        02:59:12   Log-Likelihood:                -97.488\n",
       "No. Observations:                  50   AIC:                             201.0\n",
       "Df Residuals:                      47   BIC:                             206.7\n",
       "Df Model:                           2                                         \n",
       "Covariance Type:            nonrobust                                         \n",
       "================================================================================\n",
       "                   coef    std err          t      P>|t|      [0.025      0.975]\n",
       "--------------------------------------------------------------------------------\n",
       "Intercept        1.3345      0.508      2.628      0.012       0.313       2.356\n",
       "C(Tipe)[T.1]     2.6627      0.563      4.733      0.000       1.531       3.794\n",
       "Iklan            0.4307      0.056      7.707      0.000       0.318       0.543\n",
       "==============================================================================\n",
       "Omnibus:                       12.079   Durbin-Watson:                   2.073\n",
       "Prob(Omnibus):                  0.002   Jarque-Bera (JB):               13.276\n",
       "Skew:                           0.939   Prob(JB):                      0.00131\n",
       "Kurtosis:                       4.688   Cond. No.                         23.9\n",
       "==============================================================================\n",
       "\n",
       "Warnings:\n",
       "[1] Standard Errors assume that the covariance matrix of the errors is correctly specified.\n",
       "\"\"\""
      ]
     },
     "execution_count": 30,
     "metadata": {},
     "output_type": "execute_result"
    }
   ],
   "source": [
    "# Regresi Berganda dengan menambahkan variabel kategorik \"Tipe\"\n",
    "res = ols(formula='Laba ~ Iklan + C(Tipe)', data=df).fit()\n",
    "res.summary()\n",
    "# Perhatikan bentuk modelnya, terutama pada data kategorik"
   ]
  },
  {
   "cell_type": "code",
   "execution_count": 25,
   "metadata": {},
   "outputs": [
    {
     "data": {
      "text/html": [
       "<table class=\"simpletable\">\n",
       "<caption>OLS Regression Results</caption>\n",
       "<tr>\n",
       "  <th>Dep. Variable:</th>          <td>Laba</td>       <th>  R-squared:         </th> <td>   0.665</td>\n",
       "</tr>\n",
       "<tr>\n",
       "  <th>Model:</th>                   <td>OLS</td>       <th>  Adj. R-squared:    </th> <td>   0.651</td>\n",
       "</tr>\n",
       "<tr>\n",
       "  <th>Method:</th>             <td>Least Squares</td>  <th>  F-statistic:       </th> <td>   46.73</td>\n",
       "</tr>\n",
       "<tr>\n",
       "  <th>Date:</th>             <td>Tue, 18 Jun 2019</td> <th>  Prob (F-statistic):</th> <td>6.72e-12</td>\n",
       "</tr>\n",
       "<tr>\n",
       "  <th>Time:</th>                 <td>02:55:48</td>     <th>  Log-Likelihood:    </th> <td> -105.69</td>\n",
       "</tr>\n",
       "<tr>\n",
       "  <th>No. Observations:</th>      <td>    50</td>      <th>  AIC:               </th> <td>   217.4</td>\n",
       "</tr>\n",
       "<tr>\n",
       "  <th>Df Residuals:</th>          <td>    47</td>      <th>  BIC:               </th> <td>   223.1</td>\n",
       "</tr>\n",
       "<tr>\n",
       "  <th>Df Model:</th>              <td>     2</td>      <th>                     </th>     <td> </td>   \n",
       "</tr>\n",
       "<tr>\n",
       "  <th>Covariance Type:</th>      <td>nonrobust</td>    <th>                     </th>     <td> </td>   \n",
       "</tr>\n",
       "</table>\n",
       "<table class=\"simpletable\">\n",
       "<tr>\n",
       "        <td></td>           <th>coef</th>     <th>std err</th>      <th>t</th>      <th>P>|t|</th>  <th>[0.025</th>    <th>0.975]</th>  \n",
       "</tr>\n",
       "<tr>\n",
       "  <th>Intercept</th>     <td>   -0.5655</td> <td>    0.951</td> <td>   -0.595</td> <td> 0.555</td> <td>   -2.479</td> <td>    1.348</td>\n",
       "</tr>\n",
       "<tr>\n",
       "  <th>C(Tipe)[T.1]</th>  <td>    3.1226</td> <td>    0.653</td> <td>    4.783</td> <td> 0.000</td> <td>    1.809</td> <td>    4.436</td>\n",
       "</tr>\n",
       "<tr>\n",
       "  <th>np.log(Iklan)</th> <td>    2.7286</td> <td>    0.501</td> <td>    5.443</td> <td> 0.000</td> <td>    1.720</td> <td>    3.737</td>\n",
       "</tr>\n",
       "</table>\n",
       "<table class=\"simpletable\">\n",
       "<tr>\n",
       "  <th>Omnibus:</th>       <td>17.831</td> <th>  Durbin-Watson:     </th> <td>   1.971</td>\n",
       "</tr>\n",
       "<tr>\n",
       "  <th>Prob(Omnibus):</th> <td> 0.000</td> <th>  Jarque-Bera (JB):  </th> <td>  23.549</td>\n",
       "</tr>\n",
       "<tr>\n",
       "  <th>Skew:</th>          <td> 1.249</td> <th>  Prob(JB):          </th> <td>7.70e-06</td>\n",
       "</tr>\n",
       "<tr>\n",
       "  <th>Kurtosis:</th>      <td> 5.251</td> <th>  Cond. No.          </th> <td>    8.69</td>\n",
       "</tr>\n",
       "</table><br/><br/>Warnings:<br/>[1] Standard Errors assume that the covariance matrix of the errors is correctly specified."
      ],
      "text/plain": [
       "<class 'statsmodels.iolib.summary.Summary'>\n",
       "\"\"\"\n",
       "                            OLS Regression Results                            \n",
       "==============================================================================\n",
       "Dep. Variable:                   Laba   R-squared:                       0.665\n",
       "Model:                            OLS   Adj. R-squared:                  0.651\n",
       "Method:                 Least Squares   F-statistic:                     46.73\n",
       "Date:                Tue, 18 Jun 2019   Prob (F-statistic):           6.72e-12\n",
       "Time:                        02:55:48   Log-Likelihood:                -105.69\n",
       "No. Observations:                  50   AIC:                             217.4\n",
       "Df Residuals:                      47   BIC:                             223.1\n",
       "Df Model:                           2                                         \n",
       "Covariance Type:            nonrobust                                         \n",
       "=================================================================================\n",
       "                    coef    std err          t      P>|t|      [0.025      0.975]\n",
       "---------------------------------------------------------------------------------\n",
       "Intercept        -0.5655      0.951     -0.595      0.555      -2.479       1.348\n",
       "C(Tipe)[T.1]      3.1226      0.653      4.783      0.000       1.809       4.436\n",
       "np.log(Iklan)     2.7286      0.501      5.443      0.000       1.720       3.737\n",
       "==============================================================================\n",
       "Omnibus:                       17.831   Durbin-Watson:                   1.971\n",
       "Prob(Omnibus):                  0.000   Jarque-Bera (JB):               23.549\n",
       "Skew:                           1.249   Prob(JB):                     7.70e-06\n",
       "Kurtosis:                       5.251   Cond. No.                         8.69\n",
       "==============================================================================\n",
       "\n",
       "Warnings:\n",
       "[1] Standard Errors assume that the covariance matrix of the errors is correctly specified.\n",
       "\"\"\""
      ]
     },
     "execution_count": 25,
     "metadata": {},
     "output_type": "execute_result"
    }
   ],
   "source": [
    "# Regresi Berganda non-linear (mencoba transformasi logaritmik)\n",
    "res = ols(formula='Laba ~ np.log(Iklan) + C(Tipe)', data=df).fit()\n",
    "res.summary()"
   ]
  },
  {
   "cell_type": "markdown",
   "metadata": {},
   "source": [
    "# Belum Dibahas:\n",
    "\n",
    "* Model Regresi lain: Regression-tree, Supoort Vector Regression, Neural Network for Regression, dll.\n",
    "* Regresi untuk data khusus, misal Ridge Regression\n",
    "* General Linear Model dengan interaksi yang lebih umum/kompleks"
   ]
  },
  {
   "cell_type": "markdown",
   "metadata": {},
   "source": [
    "# <center><font color=\"blue\"> End of Module IV\n",
    "\n",
    "<hr />\n",
    "<img alt=\"\" src=\"img/meme_04_regression.png\"/>"
   ]
  }
 ],
 "metadata": {
  "celltoolbar": "Slideshow",
  "kernelspec": {
   "display_name": "Python 3",
   "language": "python",
   "name": "python3"
  },
  "language_info": {
   "codemirror_mode": {
    "name": "ipython",
    "version": 3
   },
   "file_extension": ".py",
   "mimetype": "text/x-python",
   "name": "python",
   "nbconvert_exporter": "python",
   "pygments_lexer": "ipython3",
   "version": "3.6.8"
  }
 },
 "nbformat": 4,
 "nbformat_minor": 2
}
