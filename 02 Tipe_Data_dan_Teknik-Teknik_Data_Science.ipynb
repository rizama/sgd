{
 "cells": [
  {
   "cell_type": "markdown",
   "metadata": {
    "slideshow": {
     "slide_type": "slide"
    }
   },
   "source": [
    "<center><img alt=\"\" src=\"img/0_cover.jpg\"/>\n",
    "\n",
    "## <center><font color=\"blue\">II. Tipe Data dan Teknik-Teknik Data Science\n",
    "<b><center>(C) Taufik Sutanto - 2019\n",
    "<center>tau-data Indonesia ~ https://tau-data.id"
   ]
  },
  {
   "cell_type": "markdown",
   "metadata": {
    "slideshow": {
     "slide_type": "subslide"
    }
   },
   "source": [
    "<h2 id=\"Outline:\">Outline:</h2>\n",
    "\n",
    "<ul>\n",
    "\t<li>Tipe-Tipe Data: <em>Terstruktur, Tidak terstruktur, Steven&#39;s, Various Formats</em></li>\n",
    "\t<li>Teknik-Teknik Data Science (<em>Model &amp; Algoritma</em>)</li>\n",
    "</ul>"
   ]
  },
  {
   "cell_type": "markdown",
   "metadata": {
    "slideshow": {
     "slide_type": "slide"
    }
   },
   "source": [
    "# <font color=\"blue\">Salah satu pertanyaan yang paling sering terkait pengolahan data:</font>\n",
    "\n",
    "## <center>&ldquo; <em><strong>Data apa yang harus saya gunakan dan model statistika/data science apa yang sesuai?</em> &rdquo;</strong>"
   ]
  },
  {
   "cell_type": "markdown",
   "metadata": {},
   "source": [
    "# <center><font color=\"blue\">WKID: From Data to Wisdom\n",
    "\n",
    "<center><img alt=\"\" src=\"img/WKID_wisdom_knowledge_data.png\"/>"
   ]
  },
  {
   "cell_type": "markdown",
   "metadata": {
    "slideshow": {
     "slide_type": "slide"
    }
   },
   "source": [
    "<h3>Sumber Data</h3>\n",
    "<img alt=\"\" src=\"img/Data_Source.png\" style=\"width: 600px ; height: 369px\" />\n",
    "\n",
    "<p>Data dapat bersumber dari sang peneliti langsung lewat eksperimen, sensor, observasi langsung, atau survey. Sumber data seperti ini disebut sumber&nbsp;<strong>data primer</strong>. Data juga dapat berasal&nbsp;<em>repository</em>&nbsp;data (<em>database</em>/data&nbsp;<em>warehouse</em>) &nbsp;atau data dari penelitian sebelumnya, data yang tidak diambil langsung oleh penelitinya ini disebut sebagai&nbsp;<strong>data sekunder</strong>.</p>\n",
    "\n",
    "<ul>\n",
    "\t<li><strong>Kelebihan data primer</strong>&nbsp;(primary data): Interpretasi data (model) biasanya lebih baik &amp; kuat karena pengambilan data secara spesifik dilakukan untuk menjawab suatu hipotesis tertentu. Kualitas dan kontrol terhadap data juga cenderung lebih baik, dan jarang sekali terjadi masalah&nbsp;<em>proprietary</em>&nbsp;(kepemilikan data).</li>\n",
    "\t<li><strong>Kekurangan data primer:</strong>&nbsp;Mahal, butuh waktu lebih lama, lebih sulit untuk mengumpulkannya.</li>\n",
    "\t<li><strong>Kelebihan data sekunder</strong>&nbsp;(secondary sata): Murah, cepat, dan mudah untuk melakukan&nbsp;<em>benchmark</em>&nbsp;(perbandingan).</li>\n",
    "\t<li><strong>Kekurangan data sekunder</strong>:&nbsp;Terkadang tidak sesuai dengan kebutuhan, kualitas data lebih rendah (<em>garbage in-out</em>), tidak selalu tersedia.</li>\n",
    "</ul>\n"
   ]
  },
  {
   "cell_type": "markdown",
   "metadata": {},
   "source": [
    "# <center><font color=\"blue\">Tipe Data\n",
    "\n",
    "<center><img alt=\"\" src=\"img/TipeData_Circular.png\"/>"
   ]
  },
  {
   "cell_type": "markdown",
   "metadata": {
    "slideshow": {
     "slide_type": "slide"
    }
   },
   "source": [
    "# <center><font color=\"blue\">Tipe Data\n",
    "\n",
    "<center><img alt=\"\" src=\"img/tipeData_1.png\"/>"
   ]
  },
  {
   "cell_type": "markdown",
   "metadata": {
    "slideshow": {
     "slide_type": "slide"
    }
   },
   "source": [
    "<h2>Tipe Data Stevens (1946, 1951)</h2>\n",
    "\n",
    "<p><img alt=\"\" src=\"img/Tipe_Data_Stevens.png\" /></p>\n"
   ]
  },
  {
   "cell_type": "markdown",
   "metadata": {
    "slideshow": {
     "slide_type": "slide"
    }
   },
   "source": [
    "# <center><font color=\"blue\">Tipe Data, recent trend: Data Tidak Terstruktur\n",
    "\n",
    "<center><img alt=\"\" src=\"img/tipeData_2.png\"/>"
   ]
  },
  {
   "cell_type": "markdown",
   "metadata": {
    "slideshow": {
     "slide_type": "slide"
    }
   },
   "source": [
    "<h3 id=\"Time-Series-Data-(Runtun-Waktu)\">Time Series Data (Runtun Waktu)</h3>\n",
    "\n",
    "<p>Beberapa data tertentu bergantung terhadap waktu, sebut saja pergerakan nilai mata uang (kurs)/harga saham, suhu/temperature udara di suatu daerah tertentu, atau data&nbsp;logs&nbsp;suatu website.</p>\n",
    "\n",
    "Saat nilai data di masa depan lebih banyak (dominan) hanya dipengaruhi dari nilai-nilainya di masa lalu, maka model-model runtun waktu&nbsp;univariate&nbsp;(satu peubah/variabel) seperti ARIMA (<u><a href=\"https://en.wikipedia.org/wiki/Autoregressive_integrated_moving_average\">Autoregressive</a></u><u><a href=\"https://en.wikipedia.org/wiki/Autoregressive_integrated_moving_average\"> </a></u><u><a href=\"https://en.wikipedia.org/wiki/Autoregressive_integrated_moving_average\">Integrated</a></u><u><a href=\"https://en.wikipedia.org/wiki/Autoregressive_integrated_moving_average\"> </a></u><u><a href=\"https://en.wikipedia.org/wiki/Autoregressive_integrated_moving_average\">Moving</a></u><u><a href=\"https://en.wikipedia.org/wiki/Autoregressive_integrated_moving_average\"> </a></u><u><a href=\"https://en.wikipedia.org/wiki/Autoregressive_integrated_moving_average\">Average</a></u>) dapat digunakan.</p>\n",
    "\n",
    "<p>Namun bila satu atau beberapa peubah yang bergantung waktu dipengaruhi juga oleh variable lain selain nilai-nilainya di masa lalu, maka model runtun waktu peubah ganda (multivariate) seperti&nbsp;VaR (<u><a href=\"https://en.wikipedia.org/wiki/Vector_autoregression\">Vector</a></u><u><a href=\"https://en.wikipedia.org/wiki/Vector_autoregression\"> </a></u><u><a href=\"https://en.wikipedia.org/wiki/Vector_autoregression\">autoRegression</a></u>) dapat digunakan.</p>\n",
    "\n",
    "<img alt=\"\" src=\"img/Time_Series_Data.png\" />\n"
   ]
  },
  {
   "cell_type": "markdown",
   "metadata": {
    "slideshow": {
     "slide_type": "slide"
    }
   },
   "source": [
    "<h1 id=\"(Geo)Spatial-Data\">(Geo)Spatial Data</h1>\n",
    "\n",
    "<p>Ada kalanya penelitian yang dilakukan bergantung pada lokasi/tempat, sebut saja penelitian yang berkenaan dengan kadar mineral/gas di suatu daerah tertentu, penelitian tentang penyebaran suatu penyakit menular tertentu (misal: flu burung dan HIV/AIDS), gempa bumi, atau penelitan tentang dukungan politik di suatu daerah tertentu.</p>\n",
    "\n",
    "<p>Saat datanya bergantung pada lokasi (Spatial) maka model-model statistik&nbsp;<u><a href=\"https://en.wikipedia.org/wiki/Spatial_analysis\">Spatial</a></u><u><a href=\"https://en.wikipedia.org/wiki/Spatial_analysis\"> Data </a></u><u><a href=\"https://en.wikipedia.org/wiki/Spatial_analysis\">Analysis</a></u>&nbsp;seperti&nbsp;spatial autocorrelation, spatial interpolation, spatial regression, spatial interaction, dan multiple-point geostatistics&nbsp;dapat digunakan. Terkait dengan data Spatial dan data mining (machine learning) akhir-akhir ini terdapat topik baru yang cukup menarik: &ldquo;<a href=\"https://www.coursera.org/course/geoint\">Geospatial</a><a href=\"https://www.coursera.org/course/geoint\"> </a><a href=\"https://www.coursera.org/course/geoint\">Intelligence</a>&rdquo;.</p>\n",
    "\n",
    "<p><img alt=\"\" src=\"img/Spatial_Data.jpg\" /></p>\n"
   ]
  },
  {
   "cell_type": "markdown",
   "metadata": {
    "slideshow": {
     "slide_type": "slide"
    }
   },
   "source": [
    "<h3 id=\"Struktur-Data\">Struktur Data</h3>\n",
    "\n",
    "<p><img alt=\"\" src=\"img/un-Structured_Data.png\"/></p>\n"
   ]
  },
  {
   "cell_type": "markdown",
   "metadata": {
    "slideshow": {
     "slide_type": "slide"
    }
   },
   "source": [
    "<p><img alt=\"\" src=\"img/Data_Growth.png\" /></p>"
   ]
  },
  {
   "cell_type": "markdown",
   "metadata": {
    "slideshow": {
     "slide_type": "slide"
    }
   },
   "source": [
    "<h3 id=\"Graph-Data\">Graph Data</h3>\n",
    "<img alt=\"\" src=\"img/Graph_Data_1.jpg\" />"
   ]
  },
  {
   "cell_type": "markdown",
   "metadata": {
    "slideshow": {
     "slide_type": "slide"
    }
   },
   "source": [
    "<h3 id=\"Graph-Data-(Continued)\">Graph Data (Continued)</h3>\n",
    "\n",
    "<p><img alt=\"\" src=\"img/Graph_Representation.png\" /></p>\n"
   ]
  },
  {
   "cell_type": "markdown",
   "metadata": {
    "slideshow": {
     "slide_type": "slide"
    }
   },
   "source": [
    "<h2>Tipe Data Lain</h2>\n",
    "\n",
    "<p><img alt=\"\" src=\"img/Tipe_Data_Lain.png\" /></p>\n"
   ]
  },
  {
   "cell_type": "markdown",
   "metadata": {
    "slideshow": {
     "slide_type": "subslide"
    }
   },
   "source": [
    "<h2 id=\"Data-Representation\">Data Representation - Text</h2>\n",
    "\n",
    "<p><img alt=\"\" src=\"img/VSM_Transpose.png\" style=\"width: 550px; height: 588px;\" /></p>\n"
   ]
  },
  {
   "cell_type": "markdown",
   "metadata": {
    "slideshow": {
     "slide_type": "subslide"
    }
   },
   "source": [
    "<h2 id=\"Data-Representation---Image\">Data Representation - Image</h2>\n",
    "\n",
    "<p><img alt=\"\" src=\"img/Image_Representation.png\" style=\"width: 550px; height: 235px;\" /></p>\n"
   ]
  },
  {
   "cell_type": "markdown",
   "metadata": {
    "slideshow": {
     "slide_type": "slide"
    }
   },
   "source": [
    "<h1 id=\"Teknik-teknik-Data-Mining\">Teknik-teknik Data Science</h1>\n",
    "\n",
    "<center><big>&ldquo; <em><font color=\"blue\">Data apa yang harus saya gunakan dan <u><strong>model statistika/data science apa yang sesuai?</strong></u></font></em> &rdquo;</big></center>"
   ]
  },
  {
   "cell_type": "markdown",
   "metadata": {
    "slideshow": {
     "slide_type": "subslide"
    }
   },
   "source": [
    "<h2 id=\"Secara-Umum\">Secara umum teknik data science untuk data terstruktur</h2>\n",
    "\n",
    "<p><img alt=\"\" src=\"img/structured_models.png\"/></p>"
   ]
  },
  {
   "cell_type": "markdown",
   "metadata": {},
   "source": [
    "# <center><font color=\"blue\">Machine Learning - Deep Learning\n",
    "\n",
    "<center><img alt=\"\" src=\"img/ML_DL.png\"/>"
   ]
  },
  {
   "cell_type": "markdown",
   "metadata": {},
   "source": [
    "# <center><font color=\"blue\">Data Science\n",
    "\n",
    "<center><img alt=\"\" src=\"img/DataScience.png\"/>"
   ]
  },
  {
   "cell_type": "markdown",
   "metadata": {
    "slideshow": {
     "slide_type": "subslide"
    }
   },
   "source": [
    "<h2 id=\"Variabel-target-(dependent)-dan-prediktor-(independent)\">Variabel target (dependent) dan prediktor (independent)</h2>\n",
    "\n",
    "<p><img alt=\"\" src=\"img/Dependent-Independent.png\" style=\"width: 500px; height: 335px;\" /></p>\n"
   ]
  },
  {
   "cell_type": "markdown",
   "metadata": {
    "slideshow": {
     "slide_type": "subslide"
    }
   },
   "source": [
    "<h3 id=\"Metode-Interdependence-(unsupervised)-dan-Dependence-(supervised)\">Metode Interdependence (unsupervised) dan Dependence (supervised)</h3>\n",
    "\n",
    "* **<u>Interdependence Methods</u>**: Model-model statistika dimana tidak ada dugaan suatu variable dipengaruhi/memengaruhi variabel yang lain (tidak ada konsep target/prediktor).<br />\n",
    "\tContoh: Analisis cluster (pengelompokan),&nbsp;principal component analysis&nbsp;(PCA)*.\n",
    "* **<u>Dependence Methods</u>**: Model-model statistika dimana sebagian variabel diduga memengaruhi/dipengaruhi variabel yang lain.<br />\n",
    "\tContoh: Regresi, klasifikasi&nbsp;(SVM/Decision Tree/neural network).\n",
    "* Namun demikian akhir-akhir ini terdapat cukup banyak penelitian dimana domain permasalahannya terletak di antara keduanya (<u><a href=\"https://en.wikipedia.org/wiki/Semi-supervised_learning\" target=\"_blank\">Semi-</a></u><u><a href=\"https://en.wikipedia.org/wiki/Semi-supervised_learning\" target=\"_blank\">Supervised</a></u><u><a href=\"https://en.wikipedia.org/wiki/Semi-supervised_learning\" target=\"_blank\"> </a></u><u><a href=\"https://en.wikipedia.org/wiki/Semi-supervised_learning\" target=\"_blank\">Learning</a></u>-akan dibahas lebih lanjut).\n",
    "\n",
    "<p><img alt=\"\" src=\"img/un-semi-supervised_Methods.png\" />.</p>\n"
   ]
  },
  {
   "cell_type": "markdown",
   "metadata": {
    "slideshow": {
     "slide_type": "subslide"
    }
   },
   "source": [
    "<p><img alt=\"\" src=\"img/Supervised_VS_Unsupervised.png\" /></p>"
   ]
  },
  {
   "cell_type": "markdown",
   "metadata": {
    "slideshow": {
     "slide_type": "subslide"
    }
   },
   "source": [
    "<h3 id=\"Unsupervised-Learning\">Unsupervised Learning</h3>\n",
    "\n",
    "<p>Clustering/pengelompokan data memiliki tujuan umum untuk mengelompokkan/grouping&nbsp;data sedemikian sehingga objek-objek pada suatu cluster&nbsp;similar&nbsp;(serupa) satu sama lain dan objek antar cluster berbeda&nbsp;(Gambar).<br />\n",
    "<br />\n",
    "Aplikasi clustering sering digunakan untuk menemukan suatu informasi/pattern&nbsp;yang tersembunyi (latent/hidden) di data. Tidak hanya itu clustering juga biasa digunakan untuk mendeteksi&nbsp;outlier&nbsp;atau anomali yang ada di data. Tentu saja masih banyak lagi aplikasi analisa&nbsp;clustering, mulai dari&nbsp;spam detection,&nbsp;image processing, riset pemasaran (market research), dan&nbsp;<u><a href=\"https://en.wikipedia.org/wiki/Cluster_analysis\">masih banyak lagi</a></u>.</p>\n",
    "\n",
    "<p><img alt=\"\" src=\"img/inter-intra.png\" /></p>"
   ]
  },
  {
   "cell_type": "markdown",
   "metadata": {
    "slideshow": {
     "slide_type": "subslide"
    }
   },
   "source": [
    "## Clustering Components\n",
    "* Similarities & Distances\n",
    "* Clustering optimization functions\n",
    "* Evaluasi: internal, eksternal, applikasi\n",
    "* interpretasi & visualisasi"
   ]
  },
  {
   "cell_type": "markdown",
   "metadata": {
    "slideshow": {
     "slide_type": "subslide"
    }
   },
   "source": [
    "<p><img alt=\"\" src=\"img/Unsupervised.png\" /></p>\n",
    "\n",
    "<p>Selain jenis clustering yang diberikan di Gambar (Hierarchical, partitioning, &hellip;) sebenarnya masih banyak lagi clustering dengan pendekatan lain. Di antaranya adalah&nbsp;clustering dengan menggunakan&nbsp;<u><a href=\"http://link.springer.com/chapter/10.1007/978-3-319-26187-4_16\">ranking</a></u>, faktorisasi&nbsp;<u><a href=\"http://web.stanford.edu/group/mmds/slides2012/s-park.pdf\">matriks&nbsp;</a></u>atau&nbsp;<u><a href=\"http://ieeexplore.ieee.org/xpl/login.jsp?tp=&amp;arnumber=5708975\">tensor</a></u>, dan&nbsp;<u><a href=\"https://en.wikipedia.org/wiki/Biclustering\">Co-</a></u><u><a href=\"https://en.wikipedia.org/wiki/Biclustering\">Clustering</a></u>.</p>\n"
   ]
  },
  {
   "cell_type": "markdown",
   "metadata": {
    "slideshow": {
     "slide_type": "subslide"
    }
   },
   "source": [
    "<p><img alt=\"\" src=\"img/Supervised_Methods.png\" /></p>\n"
   ]
  },
  {
   "cell_type": "markdown",
   "metadata": {
    "slideshow": {
     "slide_type": "subslide"
    }
   },
   "source": [
    "<h3 id=\"Dependence-Method/Supervised-Learning-(Regression-models)\">Dependence Method/Supervised Learning (Regression models)</h3>\n",
    "\n",
    "<ul>\n",
    "\t<li>Model Regresi digunakan saat kita ingin menganalisa hubungan antara variabel target bertipe numerik dengan satu atau beberapa variable prediktor bertipe kategorik dan-atau numerik.</li>\n",
    "\t<li>\n",
    "\t<p>Awalnya regresi biasanya digunakan untuk melihat hubungan&nbsp;<u>linear</u>&nbsp;antar variabel target dan prediktor. Namun beberapa teknik seperti transformasi data atau&nbsp;<u><a href=\"https://en.wikipedia.org/wiki/Segmented_regression\" target=\"_blank\">piecewise</a></u><u><a href=\"https://en.wikipedia.org/wiki/Segmented_regression\" target=\"_blank\"> </a></u><u><a href=\"https://en.wikipedia.org/wiki/Segmented_regression\" target=\"_blank\">regression</a></u>&nbsp;dapat digunakan untuk menganalisa pola non-linear.</p>\n",
    "\t</li>\n",
    "\t<li>\n",
    "\t<p><u><strong>Diskusi</strong></u>: Apa beda interpolasi di Metode Numerik dan Regresi di Statistik?</p>\n",
    "\t</li>\n",
    "</ul>\n",
    "\n",
    "<p><img alt=\"\" src=\"img/Regression_.png\" /></p>\n"
   ]
  },
  {
   "cell_type": "markdown",
   "metadata": {
    "slideshow": {
     "slide_type": "subslide"
    }
   },
   "source": [
    "<h2 id=\"Regression-Components\">Regression Components</h2>\n",
    "\n",
    "<ul>\n",
    "\t<li>Assumptions</li>\n",
    "\t<li>Linear VS Non-Linear VS PieceWise</li>\n",
    "\t<li>Variable selection</li>\n",
    "\t<li>Prediction and-or Interpretations</li>\n",
    "\t<li>Evaluations</li>\n",
    "\t<li>Ridge regression, non-parametric, lasso, SVR, NNR, dsb</li>\n",
    "</ul>\n",
    "\n",
    "<p><img alt=\"\" src=\"img/Regression_Normal.png\" /></p>\n"
   ]
  },
  {
   "cell_type": "markdown",
   "metadata": {
    "slideshow": {
     "slide_type": "subslide"
    }
   },
   "source": [
    "<h3 id=\"Dependence-Method/Supervised-Learning-(Classification-models)\">Dependence Method/Supervised Learning (Classification models)</h3>\n",
    "\n",
    "<ul>\n",
    "\t<li>Klasifikasi adalah permasalahan meng-kategorisasikan sekelompok observasi baru ke sekumpulan kategori (kelas) yang ada sebelumnya.&nbsp;</li>\n",
    "\t<li>klasifikasi digunakan jika variabel target bertipe kategorik dan prediktornya satu atau lebih variabel numerik dan-atau kategorik.</li>\n",
    "\t<li>Terdapat cukup banyak model klasifikasi yang dapat digunakan, mulai dari yang klasik seperti&nbsp;<u><a href=\"https://en.wikipedia.org/wiki/Linear_discriminant_analysis\">Linear </a></u><u><a href=\"https://en.wikipedia.org/wiki/Linear_discriminant_analysis\">Discriminant</a></u><u><a href=\"https://en.wikipedia.org/wiki/Linear_discriminant_analysis\"> </a></u><u><a href=\"https://en.wikipedia.org/wiki/Linear_discriminant_analysis\">Analysis</a></u><u><a href=\"https://en.wikipedia.org/wiki/Linear_discriminant_analysis\"> (LDA)</a></u>&nbsp;dan&nbsp;<u><a href=\"https://en.wikipedia.org/wiki/Logistic_regression\">regresi logistik</a></u>,&nbsp;lalu ke&nbsp;moderate&nbsp;seperti SVM (<u><a href=\"https://en.wikipedia.org/wiki/Support_vector_machine\">support</a></u><u><a href=\"https://en.wikipedia.org/wiki/Support_vector_machine\"> </a></u><u><a href=\"https://en.wikipedia.org/wiki/Support_vector_machine\">vector</a></u><u><a href=\"https://en.wikipedia.org/wiki/Support_vector_machine\"> </a></u><u><a href=\"https://en.wikipedia.org/wiki/Support_vector_machine\">machines</a></u>),&nbsp;<u><a href=\"https://en.wikipedia.org/wiki/Decision_tree\">decision</a></u><u><a href=\"https://en.wikipedia.org/wiki/Decision_tree\"> </a></u><u><a href=\"https://en.wikipedia.org/wiki/Decision_tree\">tree</a></u>&nbsp;dan&nbsp;<u><a href=\"https://en.wikipedia.org/wiki/Artificial_neural_network\">neural </a></u><u><a href=\"https://en.wikipedia.org/wiki/Artificial_neural_network\">network</a></u>&nbsp;(jaringan syaraf tiruan), sampai yang paling terkini seperti&nbsp;<u><a href=\"https://en.wikipedia.org/wiki/Random_forest\">random</a></u><u><a href=\"https://en.wikipedia.org/wiki/Random_forest\"> </a></u><u><a href=\"https://en.wikipedia.org/wiki/Random_forest\">forest</a></u>&nbsp;dan&nbsp;<u><a href=\"https://en.wikipedia.org/wiki/Deep_learning\">deep</a></u><u><a href=\"https://en.wikipedia.org/wiki/Deep_learning\"> </a></u><u><a href=\"https://en.wikipedia.org/wiki/Deep_learning\">learning</a></u>.</li>\n",
    "</ul>\n"
   ]
  },
  {
   "cell_type": "markdown",
   "metadata": {
    "slideshow": {
     "slide_type": "subslide"
    }
   },
   "source": [
    "### Component Classifications\n",
    "* Evaluasi: ROC, Lift Curve, Confusion Matrix, Accuracy, Cross validation, etc.\n",
    "* Interpretasi and-or Prediksi\n",
    "* OverFitting\n",
    "* Imbalance Data\n",
    "* Ensemble\n",
    "* Kernel for Non-Linear Classifiers"
   ]
  },
  {
   "cell_type": "markdown",
   "metadata": {
    "slideshow": {
     "slide_type": "subslide"
    }
   },
   "source": [
    "<h3 id=\"(not-learning)---Unsupervised-:-Dimensional-Reduction\">(not learning) - Unsupervised : Dimensional Reduction</h3>\n",
    "\n",
    "<ul>\n",
    "\t<li>Principal Component Analysis (PCA)</li>\n",
    "\t<li>Random Indexing</li>\n",
    "\t<li>t-SNE / UMAP</li>\n",
    "\t<li>Latent Dirichlet Allocation (LDA) / Non-Negative Matrix Factorization</li>\n",
    "\t<li>etc</li>\n",
    "</ul>\n",
    "\n",
    "<p><img alt=\"\" src=\"img/Dimensionality_Reductions.png\"/></p>\n"
   ]
  },
  {
   "cell_type": "markdown",
   "metadata": {
    "slideshow": {
     "slide_type": "subslide"
    }
   },
   "source": [
    "<h3 id=\"Semi-Supervised-Learning-:-Classification-&amp;-Clustering\">Semi-Supervised Learning : Classification &amp; Clustering</h3>\n",
    "\n",
    "<ul>\n",
    "\t<li>ada kalanya data yang kita miliki memiliki variabel target dan prediktor, namun terdapat data yang hilang (<u><a href=\"https://en.wikipedia.org/wiki/Missing_data\">missing</a></u><u><a href=\"https://en.wikipedia.org/wiki/Missing_data\"> </a></u><u><a href=\"https://en.wikipedia.org/wiki/Missing_data\">values</a></u>) di beberapa observasi di variabel targetnya.</li>\n",
    "\t<li>Atau pada kasus lain, misal kita ingin melakukan clustering, namun dengan suatu kendala/batasan tertentu (constraint), atau kita menginginkan clustering yang&nbsp;sesuai dengan suatu informasi awal (prior) yang kita miliki.</li>\n",
    "\t<li>Pada kasus-kasus seperti ini semi-supervised learning digunakan.</li>\n",
    "</ul>\n",
    "\n",
    "<p><img alt=\"\" src=\"img/Semi-Supervised.png\" /></p>\n"
   ]
  },
  {
   "cell_type": "markdown",
   "metadata": {
    "slideshow": {
     "slide_type": "subslide"
    }
   },
   "source": [
    "<p><img alt=\"\" src=\"img/Semi_Supervised_Clustering.png\" /></p>\n"
   ]
  },
  {
   "cell_type": "markdown",
   "metadata": {
    "slideshow": {
     "slide_type": "subslide"
    }
   },
   "source": [
    "<h3 id=\"Constrained-Clustering\">Constrained Clustering</h3>\n",
    "\n",
    "<p>Gambar dibawah adalah contoh yang cukup terkenal dari penelitian Tung et al (2000), ketika melakukan clustering analysis mesin-mesin ATM bank di suatu kota. Namun di kota tersebut terdapat beberapa hambatan (e.g. sungai), sehingga solusi clustering (unsupervised/biasa) memiliki solusi yang menghitung jarak melewati hambatan tadi. Dengan&nbsp;<u><a href=\"https://en.wikipedia.org/wiki/Constrained_clustering\">constrained</a></u><u><a href=\"https://en.wikipedia.org/wiki/Constrained_clustering\"> </a></u><u><a href=\"https://en.wikipedia.org/wiki/Constrained_clustering\">clustering</a></u>&nbsp;(gambar 8 &ndash; kanan) kita bisa mendapatkan hasil clustering yang lebih feasible (sesuai/layak).</p>\n",
    "\n",
    "<p><img alt=\"\" src=\"img/Constrained_Clustering.png\" /></p>\n"
   ]
  },
  {
   "cell_type": "markdown",
   "metadata": {
    "slideshow": {
     "slide_type": "subslide"
    }
   },
   "source": [
    "<h3 id=\"Diluar-Scope\">More</h3>\n",
    "\n",
    "<p><img alt=\"\" src=\"img/not_Discussed.png\" /></p>\n"
   ]
  },
  {
   "cell_type": "markdown",
   "metadata": {},
   "source": [
    "# <center><font color=\"blue\"> End of Module 02\n",
    "\n",
    "<hr />\n",
    "<img alt=\"\" src=\"img/meme_02.png\"/>"
   ]
  }
 ],
 "metadata": {
  "celltoolbar": "Slideshow",
  "kernelspec": {
   "display_name": "Python 3",
   "language": "python",
   "name": "python3"
  },
  "language_info": {
   "codemirror_mode": {
    "name": "ipython",
    "version": 3
   },
   "file_extension": ".py",
   "mimetype": "text/x-python",
   "name": "python",
   "nbconvert_exporter": "python",
   "pygments_lexer": "ipython3",
   "version": "3.6.8"
  }
 },
 "nbformat": 4,
 "nbformat_minor": 2
}
