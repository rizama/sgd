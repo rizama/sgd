{
 "cells": [
  {
   "cell_type": "markdown",
   "metadata": {
    "slideshow": {
     "slide_type": "slide"
    }
   },
   "source": [
    "<center><img alt=\"\" src=\"img/0_cover.jpg\"/>\n",
    "\n",
    "## <center><font color=\"blue\">I. Pendahuluan Data Science\n",
    "<b><center>(C) Taufik Sutanto - 2019\n",
    "<center>tau-data Indonesia ~ https://tau-data.id"
   ]
  },
  {
   "cell_type": "markdown",
   "metadata": {
    "slideshow": {
     "slide_type": "slide"
    }
   },
   "source": [
    "# <font color=\"blue\">Outline Module I\n",
    "\n",
    "* Perkenalan\n",
    "* Outline Workshop\n",
    "* Pendahuluan Big Data dan Data Science\n",
    "* Aplikasi (Big) Data Science di Pemerintahan dan Industri\n",
    "* Potensi dan Tantangan Big Data Analitik di Indonesia"
   ]
  },
  {
   "cell_type": "markdown",
   "metadata": {
    "slideshow": {
     "slide_type": "slide"
    }
   },
   "source": [
    "# <center><font color=\"blue\"> Taufik Sutanto</font></center>\n",
    "<center><img alt=\"\" src=\"img/0_about.jpg\" style=\"width: 800px; height: 512px;\" /></center>"
   ]
  },
  {
   "cell_type": "markdown",
   "metadata": {
    "slideshow": {
     "slide_type": "slide"
    }
   },
   "source": [
    "<center><img alt=\"\" src=\"img/0_taudata_.jpg\" style=\"width: 800px; height: 600px;\" /></center>"
   ]
  },
  {
   "cell_type": "markdown",
   "metadata": {
    "slideshow": {
     "slide_type": "slide"
    }
   },
   "source": [
    "<center><img alt=\"\" src=\"img/0_myResearch.jpg\" style=\"width: 801px; height: 599px;\" /></center>\n"
   ]
  },
  {
   "cell_type": "markdown",
   "metadata": {
    "slideshow": {
     "slide_type": "slide"
    }
   },
   "source": [
    "<center><img alt=\"\" src=\"img/0_publications.jpg\" style=\"width: 800px; height: 569px;\" /></center>\n"
   ]
  },
  {
   "cell_type": "markdown",
   "metadata": {
    "slideshow": {
     "slide_type": "slide"
    }
   },
   "source": [
    "## <font color=\"blue\">\"_Tak Kenal Maka Tak Sayang_\"</font>\n",
    "\n",
    "* Ada yang berasal dari selain TI?\n",
    "* Berapa banyak yang sudah belajar Data Mining/Machine Learning sebelumnya? [Minimal 6 bulan]\n",
    "* Siapa yang belum lama/pernah menggunakan Python? [< 3 bulan]\n",
    "* Siapakah yang menggunakan komputer selain windows 64bit?\n",
    "* Ada pertanyaan sebelum kita mulai?"
   ]
  },
  {
   "cell_type": "markdown",
   "metadata": {
    "slideshow": {
     "slide_type": "slide"
    }
   },
   "source": [
    "# <font color=\"blue\">Outline Workshop </font>\n",
    "\n",
    "## <font color=\"blue\">Hari ke-1: Selasa, 18 Juni 2019</font>\n",
    "* 08:30-09:00 Registrasi dan Pembukaan\n",
    "* 09:00-10:00 Modul 01: Pendahuluan\n",
    "* 10:00-10:10 Coffee break\n",
    "* 10:10-12:00 Modul 02: Tipe data dan model-model data science\n",
    "* 12:00-13:00 Ishoma\n",
    "* 13:00-15:00 Modul 03: PreProcessing and Exploratory Data Analysis + studi kasus"
   ]
  },
  {
   "cell_type": "markdown",
   "metadata": {
    "slideshow": {
     "slide_type": "slide"
    }
   },
   "source": [
    "## <font color=\"blue\">Hari ke-2: Rabu, 19 Juni 2019</font>\n",
    "* 09:00-10:00 Modul 04: Pendahuluan Model Linear*\n",
    "* 10:00-10:10 Coffee break\n",
    "* 10:10-12:00 Modul 05: Studi kasus model linear\n",
    "* 12:00-13:00 Ishoma\n",
    "* 13:00-15:00 Modul 06: Unsupervised Learning: Clustering* + Case Study\n",
    "\n",
    "(*) +Evaluasi and Interpretasi"
   ]
  },
  {
   "cell_type": "markdown",
   "metadata": {
    "slideshow": {
     "slide_type": "slide"
    }
   },
   "source": [
    "## <font color=\"blue\">Hari ke-3: Kamis, 20 Juni 2019</font>\n",
    "* 09:00-10:00 Modul 07: Pendahuluan Supervised Learning untuk klasifikasi*\n",
    "* 10:00-10:10 Coffee break\n",
    "* 10:10-12:00 Modul 08: Studi Kasus klasifikasi\n",
    "* 12:00-13:00 Ishoma\n",
    "* 13:00-15:00 Modul 09: Supervised Learning untuk mencari insight + studi kasus"
   ]
  },
  {
   "cell_type": "markdown",
   "metadata": {
    "slideshow": {
     "slide_type": "slide"
    }
   },
   "source": [
    "# <font color=\"blue\">Future Data Science Topics (structured data)</font>\n",
    "\n",
    "* Model Rekomendasi\n",
    "* Teknik Sampling\n",
    "* Feature Selection and engineering\n",
    "* Dimensional reduction techniques\n",
    "* Imbalance data\n",
    "* Ensemble learning\n",
    "* Semi-supervised learning\n",
    "* Time series data analysis*\n",
    "* Spatial data analysis*"
   ]
  },
  {
   "cell_type": "markdown",
   "metadata": {
    "slideshow": {
     "slide_type": "slide"
    }
   },
   "source": [
    "# <font color=\"blue\">Future Data Science on Unstructured Data</font>\n",
    "\n",
    "* NLP dan Text Mining (3 days)\n",
    "* Image Processing (3 days)\n",
    "* Sound Processing (2 days)\n",
    "* Graph Theory and Social Media Analytics (2 days)\n",
    "* Deep Learning (3 days)"
   ]
  },
  {
   "cell_type": "markdown",
   "metadata": {
    "slideshow": {
     "slide_type": "slide"
    }
   },
   "source": [
    "# <font color=\"blue\">WorkShop I: Pengenalan Data Science Objectives</font>\n",
    "\n",
    "* Memperkenalkan berbagai cabang ilmu data serta potensinya dalam dunia industri, akademis, dan pemerintahan.\n",
    "* Memahami beberapa metode dasar pengolahan **data terstruktur** (supervised dan unsupervised learning)\n",
    "* Mengaplikasikan dan megevaluasi model-model data science pada beberapa kasus nyata"
   ]
  },
  {
   "cell_type": "markdown",
   "metadata": {
    "slideshow": {
     "slide_type": "slide"
    }
   },
   "source": [
    "<h1 id=\"Hardware-Requirements:\"><font color=\"blue\">Hardware-Software Requirements (lokal: WinPython/Anaconda):</font></h1>\n",
    "\n",
    "* Latest WinPython atau Anaconda (64bit is recommended)\n",
    "* Alternatively portable winpython at \"softwares/python\" folder at https://bit.ly/Taufik_Sutanto\n",
    "* Min 1Ghz processor, 4Gb RAM\n",
    "* Linux atau Windows 64bit (Apple Macintosh tidak dianjurkan untuk data science/machine learning)"
   ]
  },
  {
   "cell_type": "markdown",
   "metadata": {
    "slideshow": {
     "slide_type": "slide"
    }
   },
   "source": [
    "<h1 id=\"Hardware-Requirements:\"><font color=\"blue\">Hardware Requirements (online: Google Collaboratory):</font></h1>\n",
    "\n",
    "<ol>\n",
    "\t<li><strong>Koneksi internet</strong> yang memadai</li>\n",
    "\t<li><b>Google Account</b>&nbsp;(logged-in)</li>\n",
    "\t<li><strong>Google Colaboratory</strong>:&nbsp;<a href=\"https://colab.research.google.com/\" target=\"_blank\">https://colab.research.google.com/</a>&nbsp;</li>\n",
    "\t<li>Choose GitHub: &quot;<strong>taufikedys</strong>&quot;</li>\n",
    "\t<li>Choose Repository = &quot;<strong>SGD</strong>&quot;</li>\n",
    "\t<li>Choose corresponding module.</li>\n",
    "</ol>\n"
   ]
  },
  {
   "cell_type": "markdown",
   "metadata": {
    "slideshow": {
     "slide_type": "slide"
    }
   },
   "source": [
    "# <font color=\"blue\">Modul Workshop\n",
    "\n",
    "Selain dengan membukanya langsung di Google Colaboratory, modul di workshop ini juga dapat diunduh melalui:\n",
    "\n",
    "1. GitHub: https://github.com/taufikedys/sgd\n",
    "2. WebLink: https://tau-data.id/d/sgd.zip\n",
    "\n",
    "Direct (Google Colab) Access to modules:\n",
    "1. Modul 01: https://bit.ly/tauData_sgd_01\n",
    "2. Modul 02: https://bit.ly/tauData_sgd_02\n",
    "3. Modul 03: https://bit.ly/tauData_sgd_03\n",
    "4. Modul 04: https://bit.ly/tauData_sgd_04\n",
    "5. Modul 05: https://bit.ly/tauData_sgd_05\n",
    "6. Modul 06: https://bit.ly/tauData_sgd_06\n",
    "7. Modul 07: https://bit.ly/tauData_sgd_07\n",
    "8. Modul 08: https://bit.ly/tauData_sgd_08\n",
    "9. Modul 09: https://bit.ly/tauData_sgd_09"
   ]
  },
  {
   "cell_type": "markdown",
   "metadata": {
    "slideshow": {
     "slide_type": "slide"
    }
   },
   "source": [
    "# <font color=\"blue\">Workshop Requirements/Assumptions:</font>\n",
    "\n",
    "* (Minor) statistics and mathematics\n",
    "* Minor (any) programming language\n",
    "* Dikarenakan keterbatasan waktu, tidak memungkinkan membahas semua aspek dari model Data Science yang dibahas\n",
    "* Fokus ke contoh aplikasi/case studies"
   ]
  },
  {
   "cell_type": "markdown",
   "metadata": {},
   "source": [
    "<h1 id=\"Discussions-VS-Exercise\">Computational ~ Statistical ~ Mathematical Thinking</h1>\n",
    "\n",
    "<p><img alt=\"\" src=\"img/disc_vs_exer.png\" style=\"width: 800px; height: 505px;\" /></p>"
   ]
  },
  {
   "cell_type": "markdown",
   "metadata": {},
   "source": [
    "<h1><font color=\"blue\">Great Resources</font></h1>\n",
    "\n",
    "* Python basic: https://www.python-course.eu/python3_history_and_philosophy.php \n",
    "* Data Science Basic: https://scikit-learn.org/stable/tutorial/index.html\n",
    "* Advance Python: http://andy.terrel.us/blog/2012/09/27/starting-with-python/\n",
    "* Visualisasi di Python: https://matplotlib.org/gallery.html"
   ]
  },
  {
   "cell_type": "markdown",
   "metadata": {
    "slideshow": {
     "slide_type": "slide"
    }
   },
   "source": [
    "# <center><font color=\"blue\"> Industry 4.0</font></center>\n",
    "<center><img alt=\"\" src=\"img/BigData_AI_DS.jpg\"/></center>"
   ]
  },
  {
   "cell_type": "markdown",
   "metadata": {
    "slideshow": {
     "slide_type": "slide"
    }
   },
   "source": [
    "<center><img alt=\"\" src=\"img/industry_4.0.jpg\"/></center>"
   ]
  },
  {
   "cell_type": "markdown",
   "metadata": {
    "slideshow": {
     "slide_type": "slide"
    }
   },
   "source": [
    "# <center><font color=\"blue\">Industry 4.0 = \"Data\"</font></center>\n",
    "<center><font color=\"blue\"><img alt=\"\" src=\"img/data_4.0.jpg\" style=\"width: 800px; height: 591px;\" /></font></center>"
   ]
  },
  {
   "cell_type": "markdown",
   "metadata": {
    "slideshow": {
     "slide_type": "slide"
    }
   },
   "source": [
    "# <center><font color=\"blue\">Sejarah Singkat Big Data</font></center>\n",
    "\n",
    "* Istilah &ldquo;Big Data&rdquo; pertama kali muncul pada sebuah publikasi ilmiah resmi tahun 1997 di sebuah paper ilmiah NASA.\n",
    "* Pada tahun **2001 Doug Laney** kemudian memperkenalkan tiga sifat big data yang sangat terkenal dan digunakan oleh banyak ahli (konsensus) sebagai salah satu komponen utama yang harus muncul pada pembahasan big data, yaitu **Volume, Variety, and Velocity**.\n",
    "* Istilah big data mulai populer sejak tahun 2008 oleh beberapa peneliti ilmu komputer Amerika yang memprediksi dalam paper mereka bahwa komputasi big data akan membawa dampak besar di berbagai bidang.</li>\n",
    "* semenjak sekitar tahun 2013 hingga saat ini aplikasi big data sudah cukup banyak ditemukan di industri swasta dan pemerintahan.\n",
    "\n",
    "<center><img alt=\"\" src=\"img/BigData_history.png\" style=\"width: 800px; height: 436px;\" /></center>\n"
   ]
  },
  {
   "cell_type": "markdown",
   "metadata": {
    "slideshow": {
     "slide_type": "slide"
    }
   },
   "source": [
    "# <center><font color=\"blue\">Pro-Kontra Big Data\n",
    "<center><img alt=\"\" src=\"img/pro-contra.jpg\" />"
   ]
  },
  {
   "cell_type": "markdown",
   "metadata": {
    "slideshow": {
     "slide_type": "slide"
    }
   },
   "source": [
    "# <center><font color=\"blue\">Sebelum Era Big Data</font></center>\n",
    "\n",
    "<p><img alt=\"\" src=\"img/pre_BigData.png\"/></p>"
   ]
  },
  {
   "cell_type": "markdown",
   "metadata": {
    "slideshow": {
     "slide_type": "slide"
    }
   },
   "source": [
    "# <center><font color=\"blue\">Big Data Era</font></center>\n",
    "\n",
    "<center><img alt=\"\" src=\"img/BigData_Era.png\"/></center>"
   ]
  },
  {
   "cell_type": "markdown",
   "metadata": {
    "slideshow": {
     "slide_type": "slide"
    }
   },
   "source": [
    "# <center><font color=\"blue\">Perkembangan data tidak terstruktur\n",
    "\n",
    "<center><img alt=\"\" src=\"img/unstructured_data_growth.jpg\"/>"
   ]
  },
  {
   "cell_type": "markdown",
   "metadata": {
    "slideshow": {
     "slide_type": "slide"
    }
   },
   "source": [
    "<p><img alt=\"\" src=\"img/hypes.png\" /></p>"
   ]
  },
  {
   "cell_type": "markdown",
   "metadata": {
    "slideshow": {
     "slide_type": "slide"
    }
   },
   "source": [
    "<p><img alt=\"\" src=\"img/ds_vs_theRest.jpg\"/></p>"
   ]
  },
  {
   "cell_type": "markdown",
   "metadata": {
    "slideshow": {
     "slide_type": "slide"
    }
   },
   "source": [
    "<center><img alt=\"\" src=\"img/ds_ka_.jpg\"/>"
   ]
  },
  {
   "cell_type": "markdown",
   "metadata": {
    "slideshow": {
     "slide_type": "slide"
    }
   },
   "source": [
    "# <center><font color=\"blue\">Data Science: Insights</font></center>\n",
    "\n",
    "<center><img alt=\"\" src=\"img/data2insight.png\" style=\"width: 600px; height: 533px;\" /></center>\n"
   ]
  },
  {
   "cell_type": "markdown",
   "metadata": {},
   "source": [
    "<center><img alt=\"\" src=\"img/my_ds.jpg\"/>"
   ]
  },
  {
   "cell_type": "markdown",
   "metadata": {
    "slideshow": {
     "slide_type": "slide"
    }
   },
   "source": [
    "<center><img alt=\"\" src=\"img/sed.jpg\" />"
   ]
  },
  {
   "cell_type": "markdown",
   "metadata": {
    "slideshow": {
     "slide_type": "slide"
    }
   },
   "source": [
    "<center><img alt=\"\" src=\"img/csiro.jpg\" />"
   ]
  },
  {
   "cell_type": "markdown",
   "metadata": {
    "slideshow": {
     "slide_type": "slide"
    }
   },
   "source": [
    "<center><img alt=\"\" src=\"img/ep_mining.jpg\" />"
   ]
  },
  {
   "cell_type": "markdown",
   "metadata": {},
   "source": [
    "# <center><font color=\"blue\">Deep Learning\n",
    "\n",
    "<p><img alt=\"\" src=\"img/5_DeepLearning.png\" style=\"width: 600px; height: 676px;\" /></p>\n",
    "<p><big>Yang menjadi pembeda utama DL dengan ML adalah DL &quot;<em>Learning representations from data</em>&quot;. Misal Word Embedding (bandingkan dengan VSM di Machine Learning).<br />\n",
    "Makna &quot;Deep&quot; di DL sendiri bermakna &quot;successive layers of representations&quot; biasa juga disebut sebagai&nbsp;<em>layered representations learning</em> atau <em>hierarchical representations learning</em>.</big></p>"
   ]
  },
  {
   "cell_type": "markdown",
   "metadata": {},
   "source": [
    "## Text Mining dan NLP?\n",
    "<p>Natural Language Processing (NLP) - Pemrosesan Bahasa Alami (PBA):&nbsp;</p>\n",
    "\n",
    "<p>\n",
    "&quot;<big><em>Sebuah cabang ilmu&nbsp;(AI/Computational Linguistik) yang mempelajari bagaimana&nbsp;bahasa (alami) manusia (terucap/tertulis) dapat dipahami dengan baik oleh komputer dan komputer dapat merespon dengan cara yang serupa ke manusia</em></big>&quot;.</p>"
   ]
  },
  {
   "cell_type": "markdown",
   "metadata": {},
   "source": [
    "<p><strong>Aplikasi Umum NLP:</strong></p>\n",
    "\n",
    "<ol>\n",
    "\t<li>Machine Translation (Misal&nbsp;https://translate.google.com/ )</li>\n",
    "\t<li>Information Retrieval (IR)&nbsp;(misal www.google.com, bing, elasticsearch, etc.)</li>\n",
    "\t<li>Man-Machine Interface (misal Siri, cortana, atau Alexa)</li>\n",
    "</ol>\n"
   ]
  },
  {
   "cell_type": "markdown",
   "metadata": {},
   "source": [
    "<p><strong>Apakah Perbedaan antara NLP dan Text Mining (TM)?</strong></p>\n",
    "\n",
    "<p>TM (terkadang disebut Text Analytics) adalah sebuah pemrosesan teks (biasanya dalam skala besar) untuk menghasilkan (generate) informasi atau insights. Untuk menghasilkan informasi TM menggunakan beberapa metode, termasuk NLP. TM mengolah teks secara eksplisit, sementara NLP mencoba mencari makna latent (tersembunyi) lewat aturan bahasa (e.g. grammar/idioms/Semantics).<br />\n",
    "<strong>Contoh aplikasi TM</strong> : Clustering, Klasifikasi, Social Media Analytics (SMA).</p>\n"
   ]
  },
  {
   "cell_type": "markdown",
   "metadata": {},
   "source": [
    "<p><img alt=\"https://www.kdnuggets.com/2017/11/framework-approaching-textual-data-tasks.html\" src=\"img/1_NLP_TextMining.jpg\" style=\"height: 470px; width: 600px;\" /></p>\n",
    "\n",
    "<p>[image source: <a href=\"https://www.elsevier.com/books/practical-text-mining-and-statistical-analysis-for-non-structured-text-data-applications/miner/978-0-12-386979-1\" target=\"_blank\">Gary M.:&quot;Practical Text Mining and Statistical Analysis for Non-structured Text Data Applications&quot;</a>]</p>\n"
   ]
  },
  {
   "cell_type": "markdown",
   "metadata": {},
   "source": [
    "<p><img alt=\"\" src=\"img/1_Text_Analytics.jpg\" style=\"height: 451px; width: 600px;\" /></p>\n",
    "\n",
    "<p>[Image Source: <a href=\"http://www.pearson.com.au/products/S-Z-Turban-Sharda/Business-Intelligence-and-Analytics-Systems-for-Decision-Support-Global-Edition/9781292009209?R=9781292009209\" target=\"_blank\">Efraim T. &quot;Business Intelligence and Analytics: Systems for Decision Support, Global Edition (10e)</a>&quot;]</p>\n"
   ]
  },
  {
   "cell_type": "markdown",
   "metadata": {},
   "source": [
    "# <center><font color=\"blue\">Social Media Analytics\n",
    "\n",
    "<ul>\n",
    "\t<li>NLP, Text Mining (Deep Learning) di aplikasikan dengan data yang berasal dari Media Sosial</li>\n",
    "\t<li>Data relatif lebih mudah di dapatkan dan uptodate.</li>\n",
    "\t<li>Tantangan riset: Temporal, short, noise, volume, velocity, variety.</li>\n",
    "\t<li>Aplikasi di berbagai bidang: Marketing, politik, bencana, bisnis (retail), dll.</li>\n",
    "\t<li>Dapat berupa model Klasifikasi, topic modelling, ..., bahkan Graph dan time series problems</li>\n",
    "</ul>\n",
    "\n",
    "<p><img alt=\"\" src=\"img/sma.jpg\" style=\"width: 800px; height: 406px;\" /></p>\n"
   ]
  },
  {
   "cell_type": "markdown",
   "metadata": {
    "slideshow": {
     "slide_type": "slide"
    }
   },
   "source": [
    "<center><img alt=\"\" src=\"img/dataKomputasi_Architecture.jpg\" />"
   ]
  },
  {
   "cell_type": "markdown",
   "metadata": {
    "slideshow": {
     "slide_type": "slide"
    }
   },
   "source": [
    "<center><img alt=\"\" src=\"img/hace.jpg\" />"
   ]
  },
  {
   "cell_type": "markdown",
   "metadata": {
    "slideshow": {
     "slide_type": "slide"
    }
   },
   "source": [
    "<center><img alt=\"\" src=\"img/bd_frameworks.jpg\" />"
   ]
  },
  {
   "cell_type": "markdown",
   "metadata": {
    "slideshow": {
     "slide_type": "slide"
    }
   },
   "source": [
    "# <center><font color=\"blue\">Big Data: Not always Sunshine and Rainbows\n",
    "<center><img alt=\"\" src=\"img/failed_bigdata.png\" />"
   ]
  },
  {
   "cell_type": "markdown",
   "metadata": {
    "slideshow": {
     "slide_type": "slide"
    }
   },
   "source": [
    "# <center><font color=\"blue\">Kelemahan dan Kelebihan setiap metode\n",
    "<center><img alt=\"\" src=\"img/plusMinus_bd.png\" />"
   ]
  },
  {
   "cell_type": "markdown",
   "metadata": {
    "slideshow": {
     "slide_type": "slide"
    }
   },
   "source": [
    "# <center><font color=\"blue\">Cara Optimal big data utilization\n",
    "* Sesuaikan pemilihan teknologi dan frameworks dengan analisa yg diinginkan\n",
    "* Batch or streaming?\n",
    "* Text or image?\n",
    "* All Data : generate new business\n",
    "* Micro models\n",
    "* Velocity = realtime actions\n",
    "* Domain Knowledge + Latest DS Methods"
   ]
  },
  {
   "cell_type": "markdown",
   "metadata": {
    "slideshow": {
     "slide_type": "slide"
    }
   },
   "source": [
    "# <center><font color=\"blue\">Potensi Kreativitas yang Tak Berbatas di Era Digital\n",
    "<center><img alt=\"\" src=\"img/creativity_business.png\" />"
   ]
  },
  {
   "cell_type": "markdown",
   "metadata": {
    "slideshow": {
     "slide_type": "slide"
    }
   },
   "source": [
    "# <center><font color=\"blue\">AI/ML Expected Outcomes\n",
    "<center><img alt=\"\" src=\"img/ml_ai_outcomes.jpg\" />"
   ]
  },
  {
   "cell_type": "markdown",
   "metadata": {},
   "source": [
    "# <center><font color=\"blue\">Cyclic instead of Linear Process\n",
    "<center><img alt=\"\" src=\"img/linear_cyclic.png\" />\n",
    "\n",
    "### Similar to 6 Sigma/TQM"
   ]
  },
  {
   "cell_type": "markdown",
   "metadata": {
    "slideshow": {
     "slide_type": "slide"
    }
   },
   "source": [
    "# <center><font color=\"blue\">Pada tahap Awal Implementasi Tentukan Terlebih Dahulu Analisa yang akan di Aplikasikan</font></center>\n",
    "\n",
    "<center><img alt=\"\" src=\"img/predictive_business.png\" style=\"width: 800px; height: 413px;\" /></center>\n"
   ]
  },
  {
   "cell_type": "markdown",
   "metadata": {
    "slideshow": {
     "slide_type": "slide"
    }
   },
   "source": [
    "# <center><font color=\"blue\">Pertimbangkan antara Analytics Maturity VS Data Needs\n",
    "<center><img alt=\"\" src=\"img/Data_Needs_Maturity_Level.png\" /></center>"
   ]
  },
  {
   "cell_type": "markdown",
   "metadata": {
    "slideshow": {
     "slide_type": "slide"
    }
   },
   "source": [
    "# <center><font color=\"blue\">DS~BD in Marketing (Challenge)\n",
    "<center><img alt=\"\" src=\"img/business_app_challenge.jpg\" />"
   ]
  },
  {
   "cell_type": "markdown",
   "metadata": {
    "slideshow": {
     "slide_type": "slide"
    }
   },
   "source": [
    "# <center><font color=\"blue\"> Transformasi Digital yang Menyeluruh\n",
    "<center><img alt=\"\" src=\"img/digital_transformation.jpg\" />"
   ]
  },
  {
   "cell_type": "markdown",
   "metadata": {
    "slideshow": {
     "slide_type": "slide"
    }
   },
   "source": [
    "# <center><font color=\"blue\">Perusahaan/institusi kita siap untuk menerapkan Machine Learning?\n",
    "\n",
    "## Detailed Flowchart: https://www.altexsoft.com/blog/datascience/machine-learning-strategy-7-steps/"
   ]
  },
  {
   "cell_type": "markdown",
   "metadata": {
    "slideshow": {
     "slide_type": "slide"
    }
   },
   "source": [
    "<center><img alt=\"\" src=\"img/kolaborasi.png\" />"
   ]
  },
  {
   "cell_type": "markdown",
   "metadata": {
    "slideshow": {
     "slide_type": "slide"
    }
   },
   "source": [
    "# <center><font color=\"blue\"> End of Module 01\n",
    "\n",
    "<hr />\n",
    "<img alt=\"\" src=\"img/1_BigData_MeMe.png\"/>"
   ]
  }
 ],
 "metadata": {
  "celltoolbar": "Slideshow",
  "kernelspec": {
   "display_name": "Python 3",
   "language": "python",
   "name": "python3"
  },
  "language_info": {
   "codemirror_mode": {
    "name": "ipython",
    "version": 3
   },
   "file_extension": ".py",
   "mimetype": "text/x-python",
   "name": "python",
   "nbconvert_exporter": "python",
   "pygments_lexer": "ipython3",
   "version": "3.6.8"
  }
 },
 "nbformat": 4,
 "nbformat_minor": 2
}
